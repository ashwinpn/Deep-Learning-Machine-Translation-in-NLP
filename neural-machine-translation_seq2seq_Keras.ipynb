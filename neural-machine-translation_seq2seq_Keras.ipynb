{
 "cells": [
  {
   "cell_type": "markdown",
   "metadata": {},
   "source": [
    "## Neural machine translation: English-to-Spanish"
   ]
  },
  {
   "cell_type": "markdown",
   "metadata": {},
   "source": [
    "- Approach: sequence-to-sequence models (encoder -> thought vector -> decoder) with teacher forcing\n",
    "- Detail: \n",
    "  - one LSTM in encoder \n",
    "  - output the last state which serves as the initial input of states for 2nd LSTM in decoder \n",
    "  - since using teacher forcing, two different LSTMS are build for training and prediction seperately:\n",
    "    - training LSTM takes in sequence of length max_sequence_length\n",
    "    - prediction LSTM takes in sequence of lenghth 1 (previous word)\n",
    "- Result: Using Google translate to test the translation accuracy, it's found that the sequence to sequence model I used here is not very accuracy, however, due to the time and computation resource limit, the training only ran for 10 epochs on 10000 samples. Increasing epochs and training dataset will increase the translation accuracy. "
   ]
  },
  {
   "cell_type": "code",
   "execution_count": 2,
   "metadata": {
    "collapsed": true
   },
   "outputs": [],
   "source": [
    "# Disable warnings\n",
    "import warnings\n",
    "def fxn():\n",
    "    warnings.warn(\"deprecated\", DeprecationWarning)\n",
    "with warnings.catch_warnings():\n",
    "    warnings.simplefilter(\"ignore\")\n",
    "    fxn()\n"
   ]
  },
  {
   "cell_type": "code",
   "execution_count": 3,
   "metadata": {},
   "outputs": [],
   "source": [
    "import os\n",
    "import sys\n",
    "import numpy as np\n",
    "import matplotlib.pyplot as plt\n",
    "from keras.preprocessing.text import Tokenizer\n",
    "from keras.preprocessing.sequence import pad_sequences\n",
    "from keras.models import Model\n",
    "from keras.layers import Input, LSTM, GRU, Dense, Embedding\n",
    "from keras.utils import to_categorical\n",
    "import keras.backend as K"
   ]
  },
  {
   "cell_type": "code",
   "execution_count": 4,
   "metadata": {
    "collapsed": true
   },
   "outputs": [],
   "source": [
    "if len(K.tensorflow_backend._get_available_gpus()) > 0:\n",
    "    from keras.layers import CuDNNLSTM as LSTM\n",
    "    from keras.layers import CuDNNGRU as GRU"
   ]
  },
  {
   "cell_type": "code",
   "execution_count": 5,
   "metadata": {
    "collapsed": true
   },
   "outputs": [],
   "source": [
    "# configuration\n",
    "batch_size = 64\n",
    "epochs = 10\n",
    "latent_dim = 256 \n",
    "num_samples = 10000 # number of samples to be trained\n",
    "max_sequence_length = 100\n",
    "max_num_words = 20000\n",
    "embedding_dim = 100 # embedding dimension"
   ]
  },
  {
   "cell_type": "code",
   "execution_count": 6,
   "metadata": {},
   "outputs": [
    {
     "name": "stdout",
     "output_type": "stream",
     "text": [
      "num samples: 10000\n"
     ]
    }
   ],
   "source": [
    "# load in data\n",
    "input_texts = [] # sentence in original language\n",
    "target_texts = [] # sentence in target language + <'eos>\n",
    "target_texts_inputs = [] # <'sos'> + sentence in target language \n",
    "\n",
    "\n",
    "t = 0\n",
    "for line in open('../large_files/translation/spa.txt'):\n",
    "    t += 1\n",
    "    if t > num_samples:\n",
    "        break\n",
    "\n",
    "    # input and target are separated by tab\n",
    "    if '\\t' not in line:\n",
    "        continue\n",
    "\n",
    "    input_text, translation = line.rstrip().split('\\t')\n",
    "\n",
    "    target_text = translation + ' <eos>'\n",
    "    target_text_input = '<sos> ' + translation\n",
    "\n",
    "    input_texts.append(input_text)\n",
    "    target_texts.append(target_text)\n",
    "    target_texts_inputs.append(target_text_input)\n",
    "    \n",
    "print(\"num samples:\", len(input_texts))"
   ]
  },
  {
   "cell_type": "code",
   "execution_count": 7,
   "metadata": {},
   "outputs": [
    {
     "name": "stdout",
     "output_type": "stream",
     "text": [
      "<class 'list'>\n",
      "Englisth:  ['Wait.', 'Go on.', 'Go on.', 'Hello!', 'I ran.', 'I ran.', 'I try.', 'I won!', 'Oh no!', 'Relax.', 'Smile.', 'Attack!', 'Attack!', 'Get up.', 'Go now.', 'Got it!', 'Got it?', 'Got it?', 'He ran.', 'Hop in.']\n",
      "Spanish:  ['Esperen. <eos>', 'Continúa. <eos>', 'Continúe. <eos>', 'Hola. <eos>', 'Corrí. <eos>', 'Corría. <eos>', 'Lo intento. <eos>', '¡He ganado! <eos>', '¡Oh, no! <eos>', 'Tomátelo con soda. <eos>', 'Sonríe. <eos>', '¡Al ataque! <eos>', '¡Atacad! <eos>', 'Levanta. <eos>', 'Ve ahora mismo. <eos>', '¡Lo tengo! <eos>', '¿Lo pillas? <eos>', '¿Entendiste? <eos>', 'Él corrió. <eos>', 'Métete adentro. <eos>']\n"
     ]
    }
   ],
   "source": [
    "print(type(input_texts))\n",
    "print(\"Englisth: \", input_texts[20:40])\n",
    "print(\"Spanish: \", target_texts[20:40])"
   ]
  },
  {
   "cell_type": "markdown",
   "metadata": {},
   "source": [
    "### Model buiding and training"
   ]
  },
  {
   "cell_type": "code",
   "execution_count": 8,
   "metadata": {},
   "outputs": [
    {
     "name": "stdout",
     "output_type": "stream",
     "text": [
      "number of unique input tokens:  2367\n"
     ]
    }
   ],
   "source": [
    "# Since two languages, need 2 different tokenizers\n",
    "# tokenize the inputs\n",
    "tokenizer_inputs = Tokenizer(num_words=max_num_words)\n",
    "tokenizer_inputs.fit_on_texts(input_texts)\n",
    "input_sequences = tokenizer_inputs.texts_to_sequences(input_texts)\n",
    "# word to index mapping\n",
    "word2idx_inputs = tokenizer_inputs.word_index\n",
    "print(\"number of unique input tokens: \", len(word2idx_inputs))\n",
    "# maximum sequence length for inputs\n",
    "max_len_input = max(len(s) for s in input_sequences)"
   ]
  },
  {
   "cell_type": "code",
   "execution_count": 9,
   "metadata": {},
   "outputs": [
    {
     "name": "stdout",
     "output_type": "stream",
     "text": [
      "number of unique output tokens:  6325\n"
     ]
    }
   ],
   "source": [
    "# tokenize the outputs\n",
    "tokenizer_outputs = Tokenizer(num_words=max_num_words, filters='')\n",
    "# with filters = '': do not filter out special characters like <sos>, <eos>\n",
    "tokenizer_outputs.fit_on_texts(target_texts + target_texts_inputs) \n",
    "target_sequences = tokenizer_outputs.texts_to_sequences(target_texts)\n",
    "target_sequences_inputs = tokenizer_outputs.texts_to_sequences(target_texts_inputs)\n",
    "# word to index mapping\n",
    "word2idx_outputs = tokenizer_outputs.word_index\n",
    "print(\"number of unique output tokens: \", len(word2idx_outputs))\n",
    "\n",
    "num_words_output = len(word2idx_outputs) + 1\n",
    "max_len_target = max(len(s) for s in target_sequences)"
   ]
  },
  {
   "cell_type": "code",
   "execution_count": 10,
   "metadata": {},
   "outputs": [
    {
     "name": "stdout",
     "output_type": "stream",
     "text": [
      "encoder_inputs.shape:  (10000, 5)\n",
      "decoder_inputs.shape:  (10000, 9)\n"
     ]
    }
   ],
   "source": [
    "# pad the sequences\n",
    "encoder_inputs = pad_sequences(input_sequences, maxlen=max_len_input)\n",
    "print(\"encoder_inputs.shape: \", encoder_inputs.shape)\n",
    "decoder_inputs = pad_sequences(target_sequences_inputs, maxlen=max_len_target, padding='post')\n",
    "print(\"decoder_inputs.shape: \", decoder_inputs.shape)\n",
    "decoder_targets = pad_sequences(target_sequences, maxlen=max_len_target, padding='post')"
   ]
  },
  {
   "cell_type": "code",
   "execution_count": 11,
   "metadata": {
    "collapsed": true
   },
   "outputs": [],
   "source": [
    "# prepare word embedding using pre-trained glove\n",
    "word2vec = {}\n",
    "with open(os.path.join('../large_files/glove.6B/glove.6B.%sd.txt' % embedding_dim)) as f:\n",
    "    for line in f:\n",
    "        values = line.split()\n",
    "        word = values[0]\n",
    "        vec = np.asarray(values[1:], dtype='float32')\n",
    "        word2vec[word] = vec"
   ]
  },
  {
   "cell_type": "code",
   "execution_count": 12,
   "metadata": {},
   "outputs": [],
   "source": [
    "# word embedding matrix for inputs\n",
    "num_words = min(max_num_words, len(word2idx_inputs) + 1)\n",
    "embedding_matrix = np.zeros((num_words, embedding_dim))\n",
    "for word, i in word2idx_inputs.items():\n",
    "    if i < max_num_words:\n",
    "        embedding_vector = word2vec.get(word)\n",
    "        if embedding_vector is not None:\n",
    "            # words not found in embedding index will be all zeros.\n",
    "            embedding_matrix[i] = embedding_vector"
   ]
  },
  {
   "cell_type": "code",
   "execution_count": 13,
   "metadata": {},
   "outputs": [],
   "source": [
    "# create embedding layer\n",
    "embedding_layer = Embedding(\n",
    "    num_words,\n",
    "    embedding_dim,\n",
    "    weights = [embedding_matrix],\n",
    "    input_length = max_len_input,\n",
    "    trainable = False\n",
    ")"
   ]
  },
  {
   "cell_type": "code",
   "execution_count": 14,
   "metadata": {
    "collapsed": true
   },
   "outputs": [],
   "source": [
    "# one-hot-encoding targets\n",
    "# sparse_... loss without one-hot encoding does not work on sequence format target\n",
    "decoder_targets_one_hot = np.zeros(\n",
    "    (\n",
    "      len(input_texts),\n",
    "      max_len_target,\n",
    "      num_words_output\n",
    "    ),\n",
    "    dtype='float32'\n",
    ")\n",
    "for i, d in enumerate(decoder_targets):\n",
    "    for t, word in enumerate(d):\n",
    "        decoder_targets_one_hot[i, t, word] = 1"
   ]
  },
  {
   "cell_type": "code",
   "execution_count": 15,
   "metadata": {},
   "outputs": [],
   "source": [
    "# build the model\n",
    "encoder_inputs_placeholder = Input(shape=(max_len_input,))\n",
    "x = embedding_layer(encoder_inputs_placeholder)\n",
    "encoder = LSTM(\n",
    "  latent_dim,\n",
    "  return_state=True,\n",
    "  dropout=0.5 # dropout not available on gpu\n",
    ")\n",
    "encoder_outputs, h, c = encoder(x)\n",
    "# encoder_output, h = encoder(x) # for GRU\n",
    "\n",
    "encoder_states = [h, c]\n",
    "# encoder_states = [h] # GRU\n",
    "\n",
    "# set up decoder using [h,c] as initial state\n",
    "decoder_inputs_placeholder = Input(shape=(max_len_target,))\n",
    "# word embedding for targets will not use pre-trainined glove, although we can\n",
    "decoder_embedding = Embedding(num_words_output, latent_dim)\n",
    "decoder_inputs_x = decoder_embedding(decoder_inputs_placeholder)\n",
    "decoder_lstm = LSTM(\n",
    "    latent_dim,\n",
    "    return_sequences=True,\n",
    "    return_state=True,\n",
    "    dropout=0.5 # dropout not available on gpu\n",
    ")\n",
    "decoder_outputs, _, _ = decoder_lstm(\n",
    "  decoder_inputs_x,\n",
    "  initial_state=encoder_states\n",
    ")\n",
    "# dense layer\n",
    "decoder_dense = Dense(num_words_output, activation='softmax')\n",
    "decoder_outputs = decoder_dense(decoder_outputs)\n",
    "\n",
    "model = Model([encoder_inputs_placeholder, decoder_inputs_placeholder], decoder_outputs)\n",
    "model.compile(\n",
    "    optimizer = 'rmsprop',\n",
    "    loss = 'categorical_crossentropy',\n",
    "    metrics = ['accuracy']\n",
    ")"
   ]
  },
  {
   "cell_type": "code",
   "execution_count": 16,
   "metadata": {},
   "outputs": [
    {
     "name": "stdout",
     "output_type": "stream",
     "text": [
      "Train on 8000 samples, validate on 2000 samples\n",
      "Epoch 1/10\n",
      "8000/8000 [==============================] - 138s 17ms/step - loss: 2.6828 - acc: 0.6511 - val_loss: 2.6401 - val_acc: 0.6561\n",
      "Epoch 2/10\n",
      "8000/8000 [==============================] - 137s 17ms/step - loss: 2.0598 - acc: 0.7119 - val_loss: 2.4546 - val_acc: 0.6688\n",
      "Epoch 3/10\n",
      "8000/8000 [==============================] - 137s 17ms/step - loss: 1.8700 - acc: 0.7273 - val_loss: 2.3328 - val_acc: 0.6812\n",
      "Epoch 4/10\n",
      "8000/8000 [==============================] - 136s 17ms/step - loss: 1.7448 - acc: 0.7380 - val_loss: 2.2505 - val_acc: 0.6933\n",
      "Epoch 5/10\n",
      "8000/8000 [==============================] - 136s 17ms/step - loss: 1.6367 - acc: 0.7478 - val_loss: 2.1988 - val_acc: 0.7016\n",
      "Epoch 6/10\n",
      "8000/8000 [==============================] - 140s 17ms/step - loss: 1.5402 - acc: 0.7580 - val_loss: 2.1496 - val_acc: 0.7101\n",
      "Epoch 7/10\n",
      "8000/8000 [==============================] - 143s 18ms/step - loss: 1.4596 - acc: 0.7669 - val_loss: 2.1451 - val_acc: 0.7135\n",
      "Epoch 8/10\n",
      "8000/8000 [==============================] - 144s 18ms/step - loss: 1.3881 - acc: 0.7739 - val_loss: 2.1033 - val_acc: 0.7149\n",
      "Epoch 9/10\n",
      "8000/8000 [==============================] - 143s 18ms/step - loss: 1.3263 - acc: 0.7798 - val_loss: 2.0974 - val_acc: 0.7166\n",
      "Epoch 10/10\n",
      "8000/8000 [==============================] - 140s 18ms/step - loss: 1.2721 - acc: 0.7858 - val_loss: 2.1167 - val_acc: 0.7152\n"
     ]
    },
    {
     "data": {
      "image/png": "[encoded data removed]",
      "text/plain": [
       "<matplotlib.figure.Figure at 0x18abd76a90>"
      ]
     },
     "metadata": {},
     "output_type": "display_data"
    },
    {
     "data": {
      "image/png": "[encoded data removed]",
      "text/plain": [
       "<matplotlib.figure.Figure at 0x18af0e8c88>"
      ]
     },
     "metadata": {},
     "output_type": "display_data"
    }
   ],
   "source": [
    "r = model.fit(\n",
    "    [encoder_inputs, decoder_inputs], \n",
    "    decoder_targets_one_hot,\n",
    "    batch_size = batch_size,\n",
    "    epochs = epochs,\n",
    "    validation_split = 0.2,\n",
    ")\n",
    "\n",
    "plt.plot(r.history['loss'], label = 'loss')\n",
    "plt.plot(r.history['val_loss'], label = 'validation_loss')\n",
    "plt.legend()\n",
    "plt.show()\n",
    "\n",
    "plt.plot(r.history['acc'], label = 'acc')\n",
    "plt.plot(r.history['val_loss'], label = 'validation_acc')\n",
    "plt.legend()\n",
    "plt.show()\n",
    "\n",
    "model.save('s2s.h5')"
   ]
  },
  {
   "cell_type": "markdown",
   "metadata": {},
   "source": [
    "### Make predictions"
   ]
  },
  {
   "cell_type": "code",
   "execution_count": 17,
   "metadata": {},
   "outputs": [],
   "source": [
    "# Create another model that takes in previous word and state as input and accept a lenghth one sequence (T = 1)\n",
    "encoder_model = Model(encoder_inputs_placeholder, encoder_states)\n",
    "\n",
    "decoder_state_input_h = Input(shape=(latent_dim,))\n",
    "decoder_state_input_c = Input(shape=(latent_dim,))\n",
    "decoder_states_inputs = [decoder_state_input_h, decoder_state_input_c]\n",
    "\n",
    "decoder_inputs_single = Input(shape=(1,))\n",
    "decoder_inputs_single_x = decoder_embedding(decoder_inputs_single)\n",
    "\n",
    "decoder_outputs, h, c = decoder_lstm(\n",
    "  decoder_inputs_single_x,\n",
    "  initial_state=decoder_states_inputs\n",
    ")\n",
    "# decoder_outputs, state_h = decoder_lstm(\n",
    "#   decoder_inputs_single_x,\n",
    "#   initial_state=decoder_states_inputs\n",
    "# ) #gru\n",
    "decoder_states = [h, c]\n",
    "# decoder_states = [h] # gru\n",
    "decoder_outputs = decoder_dense(decoder_outputs)\n",
    "\n",
    "# sampling model\n",
    "# inputs: y(t-1), h(t-1), c(t-1)\n",
    "# outputs: y(t), h(t), c(t)\n",
    "decoder_model = Model(\n",
    "  [decoder_inputs_single] + decoder_states_inputs, \n",
    "  [decoder_outputs] + decoder_states\n",
    ")\n",
    "\n",
    "# map index back into real words\n",
    "idx2word_eng = {v:k for k, v in word2idx_inputs.items()}\n",
    "idx2word_trans = {v:k for k, v in word2idx_outputs.items()}"
   ]
  },
  {
   "cell_type": "code",
   "execution_count": 20,
   "metadata": {},
   "outputs": [],
   "source": [
    "def decode_sequence(input_seq):\n",
    "    states_value = encoder_model.predict(input_seq)\n",
    "    target_seq = np.zeros((1, 1))\n",
    "    target_seq[0, 0] = word2idx_outputs['<sos>']\n",
    "    \n",
    "    # if get index for <eos>, break\n",
    "    eos = word2idx_outputs['<eos>']\n",
    "    \n",
    "    output_sentence = []\n",
    "    for _ in range(max_len_target):  \n",
    "        output_tokens, h, c = decoder_model.predict(\n",
    "          [target_seq] + states_value\n",
    "        )\n",
    "        # output_tokens, h = decoder_model.predict(\n",
    "        #     [target_seq] + states_value\n",
    "        # ) # GRU\n",
    "\n",
    "        # idx for next word\n",
    "        idx = np.argmax(output_tokens[0, 0, :])\n",
    "\n",
    "        if eos == idx:\n",
    "            break\n",
    "\n",
    "        word = ''\n",
    "        if idx > 0:\n",
    "            word = idx2word_trans[idx]\n",
    "            output_sentence.append(word)\n",
    "\n",
    "        # Update the decoder input\n",
    "        target_seq[0, 0] = idx\n",
    "        # Update states\n",
    "        states_value = [h, c]\n",
    "        # states_value = [h] # GRU\n",
    "    \n",
    "    return ' '.join(output_sentence)"
   ]
  },
  {
   "cell_type": "code",
   "execution_count": 21,
   "metadata": {},
   "outputs": [
    {
     "name": "stdout",
     "output_type": "stream",
     "text": [
      "-\n",
      "Input: I have no money.\n",
      "Translation: tengo que que tengo que sí.\n",
      "Continue? [Y/n]Y\n",
      "-\n",
      "Input: That's wet.\n",
      "Translation: está frío.\n",
      "Continue? [Y/n]Y\n",
      "-\n",
      "Input: Are you American?\n",
      "Translation: ¿estás en casa?\n",
      "Continue? [Y/n]Y\n",
      "-\n",
      "Input: She's pregnant.\n",
      "Translation: estoy borracho.\n",
      "Continue? [Y/n]Y\n",
      "-\n",
      "Input: I'd buy that.\n",
      "Translation: no lo eso.\n",
      "Continue? [Y/n]Y\n",
      "-\n",
      "Input: You're my enemy.\n",
      "Translation: es mi libro.\n",
      "Continue? [Y/n]Y\n",
      "-\n",
      "Input: This is no good.\n",
      "Translation: esto es una libro.\n",
      "Continue? [Y/n]Y\n",
      "-\n",
      "Input: I said goodbye.\n",
      "Translation: yo me sentía enfermo.\n",
      "Continue? [Y/n]Y\n",
      "-\n",
      "Input: Which side won?\n",
      "Translation: se ha ha casa.\n",
      "Continue? [Y/n]Y\n",
      "-\n",
      "Input: Come with us.\n",
      "Translation: ven y poco.\n",
      "Continue? [Y/n]Y\n",
      "-\n",
      "Input: They're alive.\n",
      "Translation: estoy en de de tom.\n",
      "Continue? [Y/n]Y\n",
      "-\n",
      "Input: Tom is perfect.\n",
      "Translation: tom es un libro.\n",
      "Continue? [Y/n]Y\n",
      "-\n",
      "Input: I like climbing.\n",
      "Translation: me gusta el perros.\n",
      "Continue? [Y/n]N\n"
     ]
    }
   ],
   "source": [
    "while True:\n",
    "  i = np.random.choice(len(input_texts))\n",
    "  input_seq = encoder_inputs[i:i+1]\n",
    "  translation = decode_sequence(input_seq)\n",
    "  print('-')\n",
    "  print('Input:', input_texts[i])\n",
    "  print('Translation:', translation)\n",
    "\n",
    "  ans = input(\"Continue? [Y/n]\")\n",
    "  if ans and ans.lower().startswith('n'):\n",
    "    break"
   ]
  }
 ],
 "metadata": {
  "kernelspec": {
   "display_name": "Python 3",
   "language": "python",
   "name": "python3"
  },
  "language_info": {
   "codemirror_mode": {
    "name": "ipython",
    "version": 3
   },
   "file_extension": ".py",
   "mimetype": "text/x-python",
   "name": "python",
   "nbconvert_exporter": "python",
   "pygments_lexer": "ipython3",
   "version": "3.6.3"
  }
 },
 "nbformat": 4,
 "nbformat_minor": 2
}
